{
 "cells": [
  {
   "cell_type": "code",
   "execution_count": 3,
   "metadata": {},
   "outputs": [],
   "source": [
    "import pandas, io"
   ]
  },
  {
   "cell_type": "code",
   "execution_count": 4,
   "metadata": {},
   "outputs": [],
   "source": [
    "test_file = io.StringIO()"
   ]
  },
  {
   "cell_type": "code",
   "execution_count": 8,
   "metadata": {},
   "outputs": [
    {
     "data": {
      "text/plain": [
       "257"
      ]
     },
     "execution_count": 8,
     "metadata": {},
     "output_type": "execute_result"
    }
   ],
   "source": [
    "test_file.write(\"\\n\".join(\"\\t\".join([str(i*j)\n",
    "                                     for i in range(10)]) \n",
    "                          for j in range(10)))"
   ]
  },
  {
   "cell_type": "code",
   "execution_count": 12,
   "metadata": {},
   "outputs": [
    {
     "data": {
      "text/html": [
       "<div>\n",
       "<style scoped>\n",
       "    .dataframe tbody tr th:only-of-type {\n",
       "        vertical-align: middle;\n",
       "    }\n",
       "\n",
       "    .dataframe tbody tr th {\n",
       "        vertical-align: top;\n",
       "    }\n",
       "\n",
       "    .dataframe thead th {\n",
       "        text-align: right;\n",
       "    }\n",
       "</style>\n",
       "<table border=\"1\" class=\"dataframe\">\n",
       "  <thead>\n",
       "    <tr style=\"text-align: right;\">\n",
       "      <th></th>\n",
       "      <th>0</th>\n",
       "      <th>1</th>\n",
       "      <th>2</th>\n",
       "      <th>3</th>\n",
       "      <th>4</th>\n",
       "      <th>5</th>\n",
       "      <th>6</th>\n",
       "      <th>7</th>\n",
       "      <th>8</th>\n",
       "      <th>9</th>\n",
       "    </tr>\n",
       "  </thead>\n",
       "  <tbody>\n",
       "    <tr>\n",
       "      <td>0</td>\n",
       "      <td>0</td>\n",
       "      <td>0</td>\n",
       "      <td>0</td>\n",
       "      <td>0</td>\n",
       "      <td>0</td>\n",
       "      <td>0</td>\n",
       "      <td>0</td>\n",
       "      <td>0</td>\n",
       "      <td>0</td>\n",
       "      <td>0</td>\n",
       "    </tr>\n",
       "    <tr>\n",
       "      <td>1</td>\n",
       "      <td>0</td>\n",
       "      <td>1</td>\n",
       "      <td>2</td>\n",
       "      <td>3</td>\n",
       "      <td>4</td>\n",
       "      <td>5</td>\n",
       "      <td>6</td>\n",
       "      <td>7</td>\n",
       "      <td>8</td>\n",
       "      <td>9</td>\n",
       "    </tr>\n",
       "    <tr>\n",
       "      <td>2</td>\n",
       "      <td>0</td>\n",
       "      <td>2</td>\n",
       "      <td>4</td>\n",
       "      <td>6</td>\n",
       "      <td>8</td>\n",
       "      <td>10</td>\n",
       "      <td>12</td>\n",
       "      <td>14</td>\n",
       "      <td>16</td>\n",
       "      <td>18</td>\n",
       "    </tr>\n",
       "    <tr>\n",
       "      <td>3</td>\n",
       "      <td>0</td>\n",
       "      <td>3</td>\n",
       "      <td>6</td>\n",
       "      <td>9</td>\n",
       "      <td>12</td>\n",
       "      <td>15</td>\n",
       "      <td>18</td>\n",
       "      <td>21</td>\n",
       "      <td>24</td>\n",
       "      <td>27</td>\n",
       "    </tr>\n",
       "    <tr>\n",
       "      <td>4</td>\n",
       "      <td>0</td>\n",
       "      <td>4</td>\n",
       "      <td>8</td>\n",
       "      <td>12</td>\n",
       "      <td>16</td>\n",
       "      <td>20</td>\n",
       "      <td>24</td>\n",
       "      <td>28</td>\n",
       "      <td>32</td>\n",
       "      <td>36</td>\n",
       "    </tr>\n",
       "    <tr>\n",
       "      <td>5</td>\n",
       "      <td>0</td>\n",
       "      <td>5</td>\n",
       "      <td>10</td>\n",
       "      <td>15</td>\n",
       "      <td>20</td>\n",
       "      <td>25</td>\n",
       "      <td>30</td>\n",
       "      <td>35</td>\n",
       "      <td>40</td>\n",
       "      <td>45</td>\n",
       "    </tr>\n",
       "    <tr>\n",
       "      <td>6</td>\n",
       "      <td>0</td>\n",
       "      <td>6</td>\n",
       "      <td>12</td>\n",
       "      <td>18</td>\n",
       "      <td>24</td>\n",
       "      <td>30</td>\n",
       "      <td>36</td>\n",
       "      <td>42</td>\n",
       "      <td>48</td>\n",
       "      <td>54</td>\n",
       "    </tr>\n",
       "    <tr>\n",
       "      <td>7</td>\n",
       "      <td>0</td>\n",
       "      <td>7</td>\n",
       "      <td>14</td>\n",
       "      <td>21</td>\n",
       "      <td>28</td>\n",
       "      <td>35</td>\n",
       "      <td>42</td>\n",
       "      <td>49</td>\n",
       "      <td>56</td>\n",
       "      <td>63</td>\n",
       "    </tr>\n",
       "    <tr>\n",
       "      <td>8</td>\n",
       "      <td>0</td>\n",
       "      <td>8</td>\n",
       "      <td>16</td>\n",
       "      <td>24</td>\n",
       "      <td>32</td>\n",
       "      <td>40</td>\n",
       "      <td>48</td>\n",
       "      <td>56</td>\n",
       "      <td>64</td>\n",
       "      <td>72</td>\n",
       "    </tr>\n",
       "    <tr>\n",
       "      <td>9</td>\n",
       "      <td>0</td>\n",
       "      <td>9</td>\n",
       "      <td>18</td>\n",
       "      <td>27</td>\n",
       "      <td>36</td>\n",
       "      <td>45</td>\n",
       "      <td>54</td>\n",
       "      <td>63</td>\n",
       "      <td>72</td>\n",
       "      <td>81</td>\n",
       "    </tr>\n",
       "  </tbody>\n",
       "</table>\n",
       "</div>"
      ],
      "text/plain": [
       "   0  1   2   3   4   5   6   7   8   9\n",
       "0  0  0   0   0   0   0   0   0   0   0\n",
       "1  0  1   2   3   4   5   6   7   8   9\n",
       "2  0  2   4   6   8  10  12  14  16  18\n",
       "3  0  3   6   9  12  15  18  21  24  27\n",
       "4  0  4   8  12  16  20  24  28  32  36\n",
       "5  0  5  10  15  20  25  30  35  40  45\n",
       "6  0  6  12  18  24  30  36  42  48  54\n",
       "7  0  7  14  21  28  35  42  49  56  63\n",
       "8  0  8  16  24  32  40  48  56  64  72\n",
       "9  0  9  18  27  36  45  54  63  72  81"
      ]
     },
     "execution_count": 12,
     "metadata": {},
     "output_type": "execute_result"
    }
   ],
   "source": [
    "test_file.seek(0)\n",
    "pandas.read_csv(test_file, sep='\\t', header=None)"
   ]
  },
  {
   "cell_type": "code",
   "execution_count": 26,
   "metadata": {},
   "outputs": [],
   "source": [
    "d = !head /data/jmeppley/projects/nanopore_biller/HPC/merge/mcl/all_afvgs.vs.self.L500.I96.noself.lastn"
   ]
  },
  {
   "cell_type": "code",
   "execution_count": 38,
   "metadata": {},
   "outputs": [
    {
     "data": {
      "text/plain": [
       "'tp1:k4.min_d0.1.nn15:d004c256-f168-4f0c-9e42-03dacdc5fd30\\ttp1:k4.min_d0.5.nn15:1a8c16f8-acb3-452e-83c1-4eeab66f5a85\\t96.32\\t11162\\t358\\t28\\t11150\\t1\\t23325\\t34445\\t0\\t1.6e+04\\t34135\\t34446\\t10144\\ntp1:k4.min_d0.1.nn15:d004c256-f168-4f0c-9e42-03dacdc5fd30\\ttp1:k5.min_d0.5.nn15:1a8c16f8-acb3-452e-83c1-4eeab66f5a85\\t96.31\\t11162\\t358\\t29\\t11150\\t1\\t23369\\t34488\\t0\\t1.6e+04\\t34135\\t34491\\t10135\\ntp1:k4.min_d0.1.nn15:3725ea2c-3709-49f4-b879-7adf648d138a\\ttp1:k6.min_d0.nn20:335cb453-9678-48d9-a9df-8da26bc90aef\\t98.73\\t20901\\t171\\t64\\t34928\\t14078\\t1\\t20857\\t0\\t3.15e+04\\t34944\\t35130\\t19923\\ntp1:k4.min_d0.1.nn15:3725ea2c-3709-49f4-b879-7adf648d138a\\ttp1:k4.min_d0.5.nn10:ec5aceaf-f0c7-41cb-bdbd-82eb386082db\\t98.72\\t20901\\t174\\t64\\t34928\\t14078\\t1\\t20857\\t0\\t3.15e+04\\t34944\\t35118\\t19917\\ntp1:k4.min_d0.1.nn15:3725ea2c-3709-49f4-b879-7adf648d138a\\ttp1:k6.min_d0.5.nn5:ec5aceaf-f0c7-41cb-bdbd-82eb386082db\\t98.68\\t20900\\t181\\t63\\t34928\\t14078\\t1\\t20855\\t0\\t3.15e+04\\t34944\\t35096\\t19909\\ntp1:k4.min_d0.1.nn15:3725ea2c-3709-49f4-b879-7adf648d138a\\ttp2:k6.min_d0.nn5:4d6b63f3-c2f3-4d55-a5b1-06194b58ed44\\t98.27\\t20933\\t236\\t72\\t34928\\t14078\\t1\\t20889\\t0\\t3.12e+04\\t34944\\t35202\\t19705\\ntp1:k4.min_d0.1.nn15:3725ea2c-3709-49f4-b879-7adf648d138a\\ttp2:k6.min_d0.nn10:4d6b63f3-c2f3-4d55-a5b1-06194b58ed44\\t98.29\\t20936\\t228\\t75\\t34928\\t14078\\t1\\t20892\\t0\\t3.11e+04\\t34944\\t35196\\t19697\\ntp1:k4.min_d0.1.nn15:3725ea2c-3709-49f4-b879-7adf648d138a\\ttp2:k5.min_d0.1.nn5:4d6b63f3-c2f3-4d55-a5b1-06194b58ed44\\t98.14\\t20934\\t263\\t69\\t34932\\t14078\\t1\\t20887\\t0\\t3.11e+04\\t34944\\t35190\\t19673\\ntp1:k4.min_d0.1.nn15:3725ea2c-3709-49f4-b879-7adf648d138a\\ttp1:k6.min_d0.nn20:335cb453-9678-48d9-a9df-8da26bc90aef\\t96.31\\t10323\\t326\\t40\\t11203\\t901\\t24000\\t34287\\t0\\t1.47e+04\\t34944\\t35130\\t9281\\ntp1:k4.min_d0.1.nn15:3725ea2c-3709-49f4-b879-7adf648d138a\\ttp2:k6.min_d0.nn10:4d6b63f3-c2f3-4d55-a5b1-06194b58ed44\\t96.56\\t7961\\t241\\t29\\t11203\\t3259\\t24032\\t31975\\t0\\t1.14e+04\\t34944\\t35196\\t7210\\n'"
      ]
     },
     "execution_count": 38,
     "metadata": {},
     "output_type": "execute_result"
    }
   ],
   "source": [
    "dblock = \"\\n\".join(d) + \"\\n\"\n",
    "dblock"
   ]
  },
  {
   "cell_type": "code",
   "execution_count": 39,
   "metadata": {},
   "outputs": [
    {
     "data": {
      "text/plain": [
       "1827"
      ]
     },
     "execution_count": 39,
     "metadata": {},
     "output_type": "execute_result"
    }
   ],
   "source": [
    "import io\n",
    "temp_file = io.StringIO()\n",
    "temp_file.write(dblock)"
   ]
  },
  {
   "cell_type": "code",
   "execution_count": 34,
   "metadata": {},
   "outputs": [],
   "source": [
    "from modules import utils"
   ]
  },
  {
   "cell_type": "code",
   "execution_count": 40,
   "metadata": {},
   "outputs": [],
   "source": [
    "temp_file.seek(0)\n",
    "df = utils.parse_blast_m8(temp_file, format=utils.BLAST_PLUS)"
   ]
  },
  {
   "cell_type": "code",
   "execution_count": 41,
   "metadata": {},
   "outputs": [
    {
     "data": {
      "text/html": [
       "<div>\n",
       "<style scoped>\n",
       "    .dataframe tbody tr th:only-of-type {\n",
       "        vertical-align: middle;\n",
       "    }\n",
       "\n",
       "    .dataframe tbody tr th {\n",
       "        vertical-align: top;\n",
       "    }\n",
       "\n",
       "    .dataframe thead th {\n",
       "        text-align: right;\n",
       "    }\n",
       "</style>\n",
       "<table border=\"1\" class=\"dataframe\">\n",
       "  <thead>\n",
       "    <tr style=\"text-align: right;\">\n",
       "      <th></th>\n",
       "      <th>query</th>\n",
       "      <th>hit</th>\n",
       "      <th>pctid</th>\n",
       "      <th>mlen</th>\n",
       "      <th>mismatches</th>\n",
       "      <th>gaps</th>\n",
       "      <th>qstart</th>\n",
       "      <th>qend</th>\n",
       "      <th>hstart</th>\n",
       "      <th>hend</th>\n",
       "      <th>evalue</th>\n",
       "      <th>score</th>\n",
       "      <th>qlen</th>\n",
       "      <th>hlen</th>\n",
       "      <th>raw_score</th>\n",
       "    </tr>\n",
       "  </thead>\n",
       "  <tbody>\n",
       "    <tr>\n",
       "      <td>0</td>\n",
       "      <td>tp1:k4.min_d0.1.nn15:d004c256-f168-4f0c-9e42-0...</td>\n",
       "      <td>tp1:k4.min_d0.5.nn15:1a8c16f8-acb3-452e-83c1-4...</td>\n",
       "      <td>96.32</td>\n",
       "      <td>11162</td>\n",
       "      <td>358</td>\n",
       "      <td>28</td>\n",
       "      <td>11150</td>\n",
       "      <td>1</td>\n",
       "      <td>23325</td>\n",
       "      <td>34445</td>\n",
       "      <td>0</td>\n",
       "      <td>16000.0</td>\n",
       "      <td>34135</td>\n",
       "      <td>34446</td>\n",
       "      <td>10144</td>\n",
       "    </tr>\n",
       "    <tr>\n",
       "      <td>1</td>\n",
       "      <td>tp1:k4.min_d0.1.nn15:d004c256-f168-4f0c-9e42-0...</td>\n",
       "      <td>tp1:k5.min_d0.5.nn15:1a8c16f8-acb3-452e-83c1-4...</td>\n",
       "      <td>96.31</td>\n",
       "      <td>11162</td>\n",
       "      <td>358</td>\n",
       "      <td>29</td>\n",
       "      <td>11150</td>\n",
       "      <td>1</td>\n",
       "      <td>23369</td>\n",
       "      <td>34488</td>\n",
       "      <td>0</td>\n",
       "      <td>16000.0</td>\n",
       "      <td>34135</td>\n",
       "      <td>34491</td>\n",
       "      <td>10135</td>\n",
       "    </tr>\n",
       "    <tr>\n",
       "      <td>2</td>\n",
       "      <td>tp1:k4.min_d0.1.nn15:3725ea2c-3709-49f4-b879-7...</td>\n",
       "      <td>tp1:k6.min_d0.nn20:335cb453-9678-48d9-a9df-8da...</td>\n",
       "      <td>98.73</td>\n",
       "      <td>20901</td>\n",
       "      <td>171</td>\n",
       "      <td>64</td>\n",
       "      <td>34928</td>\n",
       "      <td>14078</td>\n",
       "      <td>1</td>\n",
       "      <td>20857</td>\n",
       "      <td>0</td>\n",
       "      <td>31500.0</td>\n",
       "      <td>34944</td>\n",
       "      <td>35130</td>\n",
       "      <td>19923</td>\n",
       "    </tr>\n",
       "    <tr>\n",
       "      <td>3</td>\n",
       "      <td>tp1:k4.min_d0.1.nn15:3725ea2c-3709-49f4-b879-7...</td>\n",
       "      <td>tp1:k4.min_d0.5.nn10:ec5aceaf-f0c7-41cb-bdbd-8...</td>\n",
       "      <td>98.72</td>\n",
       "      <td>20901</td>\n",
       "      <td>174</td>\n",
       "      <td>64</td>\n",
       "      <td>34928</td>\n",
       "      <td>14078</td>\n",
       "      <td>1</td>\n",
       "      <td>20857</td>\n",
       "      <td>0</td>\n",
       "      <td>31500.0</td>\n",
       "      <td>34944</td>\n",
       "      <td>35118</td>\n",
       "      <td>19917</td>\n",
       "    </tr>\n",
       "    <tr>\n",
       "      <td>4</td>\n",
       "      <td>tp1:k4.min_d0.1.nn15:3725ea2c-3709-49f4-b879-7...</td>\n",
       "      <td>tp1:k6.min_d0.5.nn5:ec5aceaf-f0c7-41cb-bdbd-82...</td>\n",
       "      <td>98.68</td>\n",
       "      <td>20900</td>\n",
       "      <td>181</td>\n",
       "      <td>63</td>\n",
       "      <td>34928</td>\n",
       "      <td>14078</td>\n",
       "      <td>1</td>\n",
       "      <td>20855</td>\n",
       "      <td>0</td>\n",
       "      <td>31500.0</td>\n",
       "      <td>34944</td>\n",
       "      <td>35096</td>\n",
       "      <td>19909</td>\n",
       "    </tr>\n",
       "    <tr>\n",
       "      <td>5</td>\n",
       "      <td>tp1:k4.min_d0.1.nn15:3725ea2c-3709-49f4-b879-7...</td>\n",
       "      <td>tp2:k6.min_d0.nn5:4d6b63f3-c2f3-4d55-a5b1-0619...</td>\n",
       "      <td>98.27</td>\n",
       "      <td>20933</td>\n",
       "      <td>236</td>\n",
       "      <td>72</td>\n",
       "      <td>34928</td>\n",
       "      <td>14078</td>\n",
       "      <td>1</td>\n",
       "      <td>20889</td>\n",
       "      <td>0</td>\n",
       "      <td>31200.0</td>\n",
       "      <td>34944</td>\n",
       "      <td>35202</td>\n",
       "      <td>19705</td>\n",
       "    </tr>\n",
       "    <tr>\n",
       "      <td>6</td>\n",
       "      <td>tp1:k4.min_d0.1.nn15:3725ea2c-3709-49f4-b879-7...</td>\n",
       "      <td>tp2:k6.min_d0.nn10:4d6b63f3-c2f3-4d55-a5b1-061...</td>\n",
       "      <td>98.29</td>\n",
       "      <td>20936</td>\n",
       "      <td>228</td>\n",
       "      <td>75</td>\n",
       "      <td>34928</td>\n",
       "      <td>14078</td>\n",
       "      <td>1</td>\n",
       "      <td>20892</td>\n",
       "      <td>0</td>\n",
       "      <td>31100.0</td>\n",
       "      <td>34944</td>\n",
       "      <td>35196</td>\n",
       "      <td>19697</td>\n",
       "    </tr>\n",
       "    <tr>\n",
       "      <td>7</td>\n",
       "      <td>tp1:k4.min_d0.1.nn15:3725ea2c-3709-49f4-b879-7...</td>\n",
       "      <td>tp2:k5.min_d0.1.nn5:4d6b63f3-c2f3-4d55-a5b1-06...</td>\n",
       "      <td>98.14</td>\n",
       "      <td>20934</td>\n",
       "      <td>263</td>\n",
       "      <td>69</td>\n",
       "      <td>34932</td>\n",
       "      <td>14078</td>\n",
       "      <td>1</td>\n",
       "      <td>20887</td>\n",
       "      <td>0</td>\n",
       "      <td>31100.0</td>\n",
       "      <td>34944</td>\n",
       "      <td>35190</td>\n",
       "      <td>19673</td>\n",
       "    </tr>\n",
       "    <tr>\n",
       "      <td>8</td>\n",
       "      <td>tp1:k4.min_d0.1.nn15:3725ea2c-3709-49f4-b879-7...</td>\n",
       "      <td>tp1:k6.min_d0.nn20:335cb453-9678-48d9-a9df-8da...</td>\n",
       "      <td>96.31</td>\n",
       "      <td>10323</td>\n",
       "      <td>326</td>\n",
       "      <td>40</td>\n",
       "      <td>11203</td>\n",
       "      <td>901</td>\n",
       "      <td>24000</td>\n",
       "      <td>34287</td>\n",
       "      <td>0</td>\n",
       "      <td>14700.0</td>\n",
       "      <td>34944</td>\n",
       "      <td>35130</td>\n",
       "      <td>9281</td>\n",
       "    </tr>\n",
       "    <tr>\n",
       "      <td>9</td>\n",
       "      <td>tp1:k4.min_d0.1.nn15:3725ea2c-3709-49f4-b879-7...</td>\n",
       "      <td>tp2:k6.min_d0.nn10:4d6b63f3-c2f3-4d55-a5b1-061...</td>\n",
       "      <td>96.56</td>\n",
       "      <td>7961</td>\n",
       "      <td>241</td>\n",
       "      <td>29</td>\n",
       "      <td>11203</td>\n",
       "      <td>3259</td>\n",
       "      <td>24032</td>\n",
       "      <td>31975</td>\n",
       "      <td>0</td>\n",
       "      <td>11400.0</td>\n",
       "      <td>34944</td>\n",
       "      <td>35196</td>\n",
       "      <td>7210</td>\n",
       "    </tr>\n",
       "  </tbody>\n",
       "</table>\n",
       "</div>"
      ],
      "text/plain": [
       "                                               query  \\\n",
       "0  tp1:k4.min_d0.1.nn15:d004c256-f168-4f0c-9e42-0...   \n",
       "1  tp1:k4.min_d0.1.nn15:d004c256-f168-4f0c-9e42-0...   \n",
       "2  tp1:k4.min_d0.1.nn15:3725ea2c-3709-49f4-b879-7...   \n",
       "3  tp1:k4.min_d0.1.nn15:3725ea2c-3709-49f4-b879-7...   \n",
       "4  tp1:k4.min_d0.1.nn15:3725ea2c-3709-49f4-b879-7...   \n",
       "5  tp1:k4.min_d0.1.nn15:3725ea2c-3709-49f4-b879-7...   \n",
       "6  tp1:k4.min_d0.1.nn15:3725ea2c-3709-49f4-b879-7...   \n",
       "7  tp1:k4.min_d0.1.nn15:3725ea2c-3709-49f4-b879-7...   \n",
       "8  tp1:k4.min_d0.1.nn15:3725ea2c-3709-49f4-b879-7...   \n",
       "9  tp1:k4.min_d0.1.nn15:3725ea2c-3709-49f4-b879-7...   \n",
       "\n",
       "                                                 hit  pctid   mlen  \\\n",
       "0  tp1:k4.min_d0.5.nn15:1a8c16f8-acb3-452e-83c1-4...  96.32  11162   \n",
       "1  tp1:k5.min_d0.5.nn15:1a8c16f8-acb3-452e-83c1-4...  96.31  11162   \n",
       "2  tp1:k6.min_d0.nn20:335cb453-9678-48d9-a9df-8da...  98.73  20901   \n",
       "3  tp1:k4.min_d0.5.nn10:ec5aceaf-f0c7-41cb-bdbd-8...  98.72  20901   \n",
       "4  tp1:k6.min_d0.5.nn5:ec5aceaf-f0c7-41cb-bdbd-82...  98.68  20900   \n",
       "5  tp2:k6.min_d0.nn5:4d6b63f3-c2f3-4d55-a5b1-0619...  98.27  20933   \n",
       "6  tp2:k6.min_d0.nn10:4d6b63f3-c2f3-4d55-a5b1-061...  98.29  20936   \n",
       "7  tp2:k5.min_d0.1.nn5:4d6b63f3-c2f3-4d55-a5b1-06...  98.14  20934   \n",
       "8  tp1:k6.min_d0.nn20:335cb453-9678-48d9-a9df-8da...  96.31  10323   \n",
       "9  tp2:k6.min_d0.nn10:4d6b63f3-c2f3-4d55-a5b1-061...  96.56   7961   \n",
       "\n",
       "   mismatches  gaps  qstart   qend  hstart   hend  evalue    score   qlen  \\\n",
       "0         358    28   11150      1   23325  34445       0  16000.0  34135   \n",
       "1         358    29   11150      1   23369  34488       0  16000.0  34135   \n",
       "2         171    64   34928  14078       1  20857       0  31500.0  34944   \n",
       "3         174    64   34928  14078       1  20857       0  31500.0  34944   \n",
       "4         181    63   34928  14078       1  20855       0  31500.0  34944   \n",
       "5         236    72   34928  14078       1  20889       0  31200.0  34944   \n",
       "6         228    75   34928  14078       1  20892       0  31100.0  34944   \n",
       "7         263    69   34932  14078       1  20887       0  31100.0  34944   \n",
       "8         326    40   11203    901   24000  34287       0  14700.0  34944   \n",
       "9         241    29   11203   3259   24032  31975       0  11400.0  34944   \n",
       "\n",
       "    hlen  raw_score  \n",
       "0  34446      10144  \n",
       "1  34491      10135  \n",
       "2  35130      19923  \n",
       "3  35118      19917  \n",
       "4  35096      19909  \n",
       "5  35202      19705  \n",
       "6  35196      19697  \n",
       "7  35190      19673  \n",
       "8  35130       9281  \n",
       "9  35196       7210  "
      ]
     },
     "execution_count": 41,
     "metadata": {},
     "output_type": "execute_result"
    }
   ],
   "source": [
    "df"
   ]
  },
  {
   "cell_type": "code",
   "execution_count": 42,
   "metadata": {},
   "outputs": [
    {
     "data": {
      "text/plain": [
       "(10, 15)"
      ]
     },
     "execution_count": 42,
     "metadata": {},
     "output_type": "execute_result"
    }
   ],
   "source": [
    "df.shape"
   ]
  },
  {
   "cell_type": "code",
   "execution_count": 43,
   "metadata": {},
   "outputs": [
    {
     "data": {
      "text/plain": [
       "8"
      ]
     },
     "execution_count": 43,
     "metadata": {},
     "output_type": "execute_result"
    }
   ],
   "source": [
    "len(set(df.hit))"
   ]
  },
  {
   "cell_type": "code",
   "execution_count": 72,
   "metadata": {},
   "outputs": [
    {
     "data": {
      "text/plain": [
       "2"
      ]
     },
     "execution_count": 72,
     "metadata": {},
     "output_type": "execute_result"
    }
   ],
   "source": [
    "df.hstart.idxmin()"
   ]
  },
  {
   "cell_type": "code",
   "execution_count": 70,
   "metadata": {},
   "outputs": [
    {
     "data": {
      "text/plain": [
       "96.32"
      ]
     },
     "execution_count": 70,
     "metadata": {},
     "output_type": "execute_result"
    }
   ],
   "source": [
    "df.sort_values('pctid').pctid[0]"
   ]
  },
  {
   "cell_type": "code",
   "execution_count": 67,
   "metadata": {},
   "outputs": [],
   "source": [
    "import nose"
   ]
  },
  {
   "cell_type": "code",
   "execution_count": 47,
   "metadata": {},
   "outputs": [
    {
     "data": {
      "text/plain": [
       "'/home/jmeppley/notebooks/modules/tests'"
      ]
     },
     "execution_count": 47,
     "metadata": {},
     "output_type": "execute_result"
    }
   ],
   "source": [
    "pwd"
   ]
  },
  {
   "cell_type": "code",
   "execution_count": 52,
   "metadata": {},
   "outputs": [],
   "source": [
    "from modules import conda"
   ]
  },
  {
   "cell_type": "code",
   "execution_count": 66,
   "metadata": {},
   "outputs": [
    {
     "name": "stdout",
     "output_type": "stream",
     "text": [
      "...\n",
      "----------------------------------------------------------------------\n",
      "Ran 3 tests in 1.035s\n",
      "\n",
      "OK\n"
     ]
    }
   ],
   "source": [
    "!nosetests"
   ]
  },
  {
   "cell_type": "code",
   "execution_count": 58,
   "metadata": {},
   "outputs": [],
   "source": [
    "import numpy\n",
    "from modules import utils"
   ]
  },
  {
   "cell_type": "code",
   "execution_count": 65,
   "metadata": {},
   "outputs": [
    {
     "name": "stdout",
     "output_type": "stream",
     "text": [
      "True 7.62451988888348e-16\n",
      "True -2.8449926261468773e-16\n",
      "True 3.1100932507263995e-15\n",
      "True 4.683186331922376e-15\n",
      "True 5.9272236322129365e-15\n"
     ]
    }
   ],
   "source": [
    "x = numpy.array([0,1,2,3,4])\n",
    "for i in range(1,10,2):\n",
    "    y = i * x\n",
    "    slope, intercept = utils.get_best_fit(x, y)\n",
    "    print (abs(i - slope) < 1e-13, intercept)"
   ]
  },
  {
   "cell_type": "code",
   "execution_count": 73,
   "metadata": {},
   "outputs": [],
   "source": [
    "def test_fun():\n",
    "    return \"test\""
   ]
  },
  {
   "cell_type": "code",
   "execution_count": 74,
   "metadata": {},
   "outputs": [],
   "source": [
    "function = 'test_fun'"
   ]
  },
  {
   "cell_type": "code",
   "execution_count": 75,
   "metadata": {},
   "outputs": [],
   "source": [
    "function = eval(function)"
   ]
  },
  {
   "cell_type": "code",
   "execution_count": 77,
   "metadata": {},
   "outputs": [
    {
     "ename": "NameError",
     "evalue": "name 'foo_bar' is not defined",
     "output_type": "error",
     "traceback": [
      "\u001b[0;31m---------------------------------------------------------------------------\u001b[0m",
      "\u001b[0;31mNameError\u001b[0m                                 Traceback (most recent call last)",
      "\u001b[0;32m<ipython-input-77-9fc18c3d6f64>\u001b[0m in \u001b[0;36m<module>\u001b[0;34m\u001b[0m\n\u001b[0;32m----> 1\u001b[0;31m \u001b[0mfunction\u001b[0m \u001b[0;34m=\u001b[0m \u001b[0meval\u001b[0m\u001b[0;34m(\u001b[0m\u001b[0;34m\"foo_bar\"\u001b[0m\u001b[0;34m)\u001b[0m\u001b[0;34m\u001b[0m\u001b[0;34m\u001b[0m\u001b[0m\n\u001b[0m",
      "\u001b[0;32m<string>\u001b[0m in \u001b[0;36m<module>\u001b[0;34m\u001b[0m\n",
      "\u001b[0;31mNameError\u001b[0m: name 'foo_bar' is not defined"
     ]
    }
   ],
   "source": [
    "function = eval(\"foo_bar\")"
   ]
  },
  {
   "cell_type": "code",
   "execution_count": 76,
   "metadata": {},
   "outputs": [
    {
     "data": {
      "text/plain": [
       "'test'"
      ]
     },
     "execution_count": 76,
     "metadata": {},
     "output_type": "execute_result"
    }
   ],
   "source": [
    "function()"
   ]
  },
  {
   "cell_type": "code",
   "execution_count": null,
   "metadata": {},
   "outputs": [],
   "source": []
  }
 ],
 "metadata": {
  "kernelspec": {
   "display_name": "jupy",
   "language": "python",
   "name": "jupy"
  },
  "language_info": {
   "codemirror_mode": {
    "name": "ipython",
    "version": 3
   },
   "file_extension": ".py",
   "mimetype": "text/x-python",
   "name": "python",
   "nbconvert_exporter": "python",
   "pygments_lexer": "ipython3",
   "version": "3.7.3"
  }
 },
 "nbformat": 4,
 "nbformat_minor": 4
}
